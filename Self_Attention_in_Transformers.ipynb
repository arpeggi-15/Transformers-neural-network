{
  "nbformat": 4,
  "nbformat_minor": 0,
  "metadata": {
    "colab": {
      "provenance": [],
      "gpuType": "T4",
      "authorship_tag": "ABX9TyOaZSZb4D/yrPfcR42Sfvdv",
      "include_colab_link": true
    },
    "kernelspec": {
      "name": "python3",
      "display_name": "Python 3"
    },
    "language_info": {
      "name": "python"
    }
  },
  "cells": [
    {
      "cell_type": "markdown",
      "metadata": {
        "id": "view-in-github",
        "colab_type": "text"
      },
      "source": [
        "<a href=\"https://colab.research.google.com/github/arpeggi-15/Transformers-neural-network/blob/main/Self_Attention_in_Transformers.ipynb\" target=\"_parent\"><img src=\"https://colab.research.google.com/assets/colab-badge.svg\" alt=\"Open In Colab\"/></a>"
      ]
    },
    {
      "cell_type": "markdown",
      "source": [
        "## Coding Self Attention in Transformers"
      ],
      "metadata": {
        "id": "5XlEqJAiQiQb"
      }
    },
    {
      "cell_type": "code",
      "source": [
        "## Importing Libraries\n",
        "import numpy as np\n",
        "import math"
      ],
      "metadata": {
        "id": "REipGAKsQrje"
      },
      "execution_count": 1,
      "outputs": []
    },
    {
      "cell_type": "code",
      "source": [
        "## Genreating Data\n",
        "\n",
        "L, d_k, d_v = 4, 8, 8\n",
        "q = np.random.randn(L, d_k)\n",
        "k = np.random.randn(L, d_k)\n",
        "v = np.random.randn(L, d_v)"
      ],
      "metadata": {
        "id": "xUzAvuX5Q2t5"
      },
      "execution_count": 2,
      "outputs": []
    },
    {
      "cell_type": "code",
      "source": [
        "print(\"Q\\n\", q)\n",
        "print(\"K\\n\", k)\n",
        "print(\"V\\n\", v)"
      ],
      "metadata": {
        "colab": {
          "base_uri": "https://localhost:8080/"
        },
        "id": "etG4qnq8RbQ6",
        "outputId": "a1c81713-cae4-434c-be62-57ff89f3848a"
      },
      "execution_count": 3,
      "outputs": [
        {
          "output_type": "stream",
          "name": "stdout",
          "text": [
            "Q\n",
            " [[ 3.34278457  0.39612788 -0.98819355 -1.1077455  -0.38255537 -0.10379994\n",
            "  -0.51146918  0.09293298]\n",
            " [ 1.52237815 -0.2174949   1.03665892 -0.21065444 -0.40634944  0.77296857\n",
            "  -0.47011219  1.62302878]\n",
            " [-1.19135761  0.48766303  0.45636425  0.21676984  1.42303043  0.22596744\n",
            "  -0.3678861  -0.73940932]\n",
            " [-0.09375137 -0.04474917 -0.48749194  0.52051747  1.88337721 -0.41709959\n",
            "  -0.26235022  0.24116219]]\n",
            "K\n",
            " [[-1.44353036  0.37960281 -1.29376998  0.31693309  2.07464438  0.91732314\n",
            "  -0.33753667 -0.07122909]\n",
            " [ 1.25943966  0.10988663  0.95702566 -0.50777681  0.4789222   0.65097021\n",
            "  -0.79660986 -0.68303974]\n",
            " [-1.72847953 -0.62896366 -2.33455326  0.28707914  0.35321812 -0.02203805\n",
            "   0.22116167 -0.48156707]\n",
            " [ 0.02940219 -1.36951664 -0.48449898 -0.03127682 -0.72518655  0.0488824\n",
            "  -1.33205182  1.43489268]]\n",
            "V\n",
            " [[-1.72955746 -0.62463916 -0.6793932   0.65046206  1.19017355  0.03047917\n",
            "  -0.84386192  1.00766872]\n",
            " [-1.04429763 -1.15478099  0.17701764 -0.88352442  1.16597075  0.18716261\n",
            "   1.41017493  0.99070737]\n",
            " [ 0.26734226  1.40466065 -0.12637175  0.03472131 -0.93760062  1.28463708\n",
            "   0.37887243  1.73365749]\n",
            " [-1.76230225 -0.36857447 -0.70468912  1.39442757  0.93131844 -0.73347673\n",
            "   0.46690737 -0.40290641]]\n"
          ]
        }
      ]
    },
    {
      "cell_type": "markdown",
      "source": [
        "###Self Attention\n",
        "$\\text{self attention} = softmax\\bigg(\\frac{Q.K^T}{\\sqrt{d_k}}+M\\bigg)$\n",
        "\n",
        "$\\text{new V} = \\text{self attention}.V$"
      ],
      "metadata": {
        "id": "MccxzD6ORtDG"
      }
    },
    {
      "cell_type": "code",
      "source": [
        "np.matmul(q, k.T)"
      ],
      "metadata": {
        "colab": {
          "base_uri": "https://localhost:8080/"
        },
        "id": "sauijGvOSOXb",
        "outputId": "11d10f70-c3e1-4117-93f2-4d378a3205b5"
      },
      "execution_count": 4,
      "outputs": [
        {
          "output_type": "execute_result",
          "data": {
            "text/plain": [
              "array([[-4.47049017,  3.96350506, -4.32881368,  1.15620933],\n",
              "       [-3.7790177 ,  2.56699085, -6.02134575,  3.13450216],\n",
              "       [ 4.71956006,  0.50655282,  1.52171149, -2.52262541],\n",
              "       [ 4.51011558, -0.17910135,  1.97797596, -0.41224523]])"
            ]
          },
          "metadata": {},
          "execution_count": 4
        }
      ]
    },
    {
      "cell_type": "code",
      "source": [
        "q.var(), k.var(), np.matmul(q, k.T).var()"
      ],
      "metadata": {
        "colab": {
          "base_uri": "https://localhost:8080/"
        },
        "id": "R_PBsMtMSo2X",
        "outputId": "45c14d12-2eaf-485b-b48e-3bcf96023167"
      },
      "execution_count": 5,
      "outputs": [
        {
          "output_type": "execute_result",
          "data": {
            "text/plain": [
              "(0.9026687922231827, 0.9025904900814988, 11.127789095706268)"
            ]
          },
          "metadata": {},
          "execution_count": 5
        }
      ]
    },
    {
      "cell_type": "code",
      "source": [
        "##we need sqrt(d_k) in denominator to reduce the variance of the product\n",
        "scaled = np.matmul(q, k.T) / math.sqrt(d_k)\n",
        "q.var(), k.var(), scaled.var()"
      ],
      "metadata": {
        "colab": {
          "base_uri": "https://localhost:8080/"
        },
        "id": "sRY4oqg2TLxT",
        "outputId": "ade369c6-5051-47a1-af2c-7344eab7d3bb"
      },
      "execution_count": 6,
      "outputs": [
        {
          "output_type": "execute_result",
          "data": {
            "text/plain": [
              "(0.9026687922231827, 0.9025904900814988, 1.3909736369632832)"
            ]
          },
          "metadata": {},
          "execution_count": 6
        }
      ]
    },
    {
      "cell_type": "code",
      "source": [
        "scaled"
      ],
      "metadata": {
        "colab": {
          "base_uri": "https://localhost:8080/"
        },
        "id": "vP_dn6W2TcZ0",
        "outputId": "eff87738-dc2c-4134-e091-b42082dd4467"
      },
      "execution_count": 7,
      "outputs": [
        {
          "output_type": "execute_result",
          "data": {
            "text/plain": [
              "array([[-1.58055696,  1.40131065, -1.53046675,  0.40878173],\n",
              "       [-1.33608452,  0.90756832, -2.12886721,  1.10821387],\n",
              "       [ 1.66861646,  0.17909347,  0.53800626, -0.89188277],\n",
              "       [ 1.59456665, -0.06332189,  0.69932011, -0.1457507 ]])"
            ]
          },
          "metadata": {},
          "execution_count": 7
        }
      ]
    },
    {
      "cell_type": "markdown",
      "source": [
        "###Masking\n",
        "1. Masking is done to ensure words don't get context from words generated in the future.\n",
        "2.Not required in the encoders, but required in the decoders."
      ],
      "metadata": {
        "id": "aSWgjcE9Tf8T"
      }
    },
    {
      "cell_type": "code",
      "source": [
        "mask = np.tril(np.ones((L,L)))\n",
        "mask"
      ],
      "metadata": {
        "colab": {
          "base_uri": "https://localhost:8080/"
        },
        "id": "y02tKFkxTu7M",
        "outputId": "9e9da83b-7cc0-42ff-dcec-7fe5a7daa8c3"
      },
      "execution_count": 11,
      "outputs": [
        {
          "output_type": "execute_result",
          "data": {
            "text/plain": [
              "array([[1., 0., 0., 0.],\n",
              "       [1., 1., 0., 0.],\n",
              "       [1., 1., 1., 0.],\n",
              "       [1., 1., 1., 1.]])"
            ]
          },
          "metadata": {},
          "execution_count": 11
        }
      ]
    },
    {
      "cell_type": "code",
      "source": [
        "mask[mask == 0] = -np.infty\n",
        "mask[mask == 1] = 0\n",
        "mask"
      ],
      "metadata": {
        "colab": {
          "base_uri": "https://localhost:8080/"
        },
        "id": "CcDBJapLUdEs",
        "outputId": "9640f6f6-af71-4838-94ea-c49b0596b211"
      },
      "execution_count": 12,
      "outputs": [
        {
          "output_type": "execute_result",
          "data": {
            "text/plain": [
              "array([[  0., -inf, -inf, -inf],\n",
              "       [  0.,   0., -inf, -inf],\n",
              "       [  0.,   0.,   0., -inf],\n",
              "       [  0.,   0.,   0.,   0.]])"
            ]
          },
          "metadata": {},
          "execution_count": 12
        }
      ]
    },
    {
      "cell_type": "code",
      "source": [
        "scaled + mask"
      ],
      "metadata": {
        "colab": {
          "base_uri": "https://localhost:8080/"
        },
        "id": "i78WsCegU0Ie",
        "outputId": "2b7faab3-58fa-4b3e-c85f-b796d775c944"
      },
      "execution_count": 13,
      "outputs": [
        {
          "output_type": "execute_result",
          "data": {
            "text/plain": [
              "array([[-1.58055696,        -inf,        -inf,        -inf],\n",
              "       [-1.33608452,  0.90756832,        -inf,        -inf],\n",
              "       [ 1.66861646,  0.17909347,  0.53800626,        -inf],\n",
              "       [ 1.59456665, -0.06332189,  0.69932011, -0.1457507 ]])"
            ]
          },
          "metadata": {},
          "execution_count": 13
        }
      ]
    },
    {
      "cell_type": "markdown",
      "source": [
        "###Softmax\n",
        "$\\text{softmax} = \\frac{e^{x_i}}{\\sum_j e^x_j}$"
      ],
      "metadata": {
        "id": "W7HJ839jVHm9"
      }
    },
    {
      "cell_type": "code",
      "source": [
        "def softmax(x):\n",
        "  return ((np.exp(x).T)/np.sum(np.exp(x), axis=-1)).T"
      ],
      "metadata": {
        "id": "LSz_QYlhVKJf"
      },
      "execution_count": 14,
      "outputs": []
    },
    {
      "cell_type": "code",
      "source": [
        "attention = softmax(scaled + mask)\n",
        "attention"
      ],
      "metadata": {
        "colab": {
          "base_uri": "https://localhost:8080/"
        },
        "id": "hyH2lp60Vs9M",
        "outputId": "4d199d60-88af-4c94-e96f-54317e8dece0"
      },
      "execution_count": 15,
      "outputs": [
        {
          "output_type": "execute_result",
          "data": {
            "text/plain": [
              "array([[1.        , 0.        , 0.        , 0.        ],\n",
              "       [0.09589837, 0.90410163, 0.        , 0.        ],\n",
              "       [0.64586283, 0.14562927, 0.2085079 , 0.        ],\n",
              "       [0.56353507, 0.10737647, 0.23020795, 0.09888052]])"
            ]
          },
          "metadata": {},
          "execution_count": 15
        }
      ]
    },
    {
      "cell_type": "code",
      "source": [
        "new_v = np.matmul(attention, v)\n",
        "new_v"
      ],
      "metadata": {
        "colab": {
          "base_uri": "https://localhost:8080/"
        },
        "id": "7CVbnlEDVyMo",
        "outputId": "0cad453b-13fe-49af-e0f4-0eef613e2877"
      },
      "execution_count": 16,
      "outputs": [
        {
          "output_type": "execute_result",
          "data": {
            "text/plain": [
              "array([[-1.72955746, -0.62463916, -0.6793932 ,  0.65046206,  1.19017355,\n",
              "         0.03047917, -0.84386192,  1.00766872],\n",
              "       [-1.11001293, -1.10394125,  0.09488924, -0.73641762,  1.16829176,\n",
              "         0.17213693,  1.19401648,  0.99233394],\n",
              "       [-1.2133942 , -0.27871829, -0.43936537,  0.29868192,  0.74299119,\n",
              "         0.3147987 , -0.2606584 ,  1.15657305],\n",
              "       [-1.19951232, -0.18908316, -0.46262617,  0.41756329,  0.67214849,\n",
              "         0.26048005, -0.1907387 ,  1.03349746]])"
            ]
          },
          "metadata": {},
          "execution_count": 16
        }
      ]
    },
    {
      "cell_type": "markdown",
      "source": [
        "###Scaled dot product attention"
      ],
      "metadata": {
        "id": "Y6zOQaQiXitH"
      }
    },
    {
      "cell_type": "code",
      "source": [
        "def scaled_dot_product_attention(q, k, v, mask=None):\n",
        "  d_k = q.shape[-1]\n",
        "  scaled = np.matmul(q, k.T) / math.sqrt(d_k)\n",
        "  if mask is not None:\n",
        "    scaled = scaled + mask\n",
        "  attention = softmax(scaled)\n",
        "  output = np.matmul(attention, v)\n",
        "  return output, attention"
      ],
      "metadata": {
        "id": "meU3EaFnXomk"
      },
      "execution_count": 17,
      "outputs": []
    },
    {
      "cell_type": "code",
      "source": [
        "values, attention = scaled_dot_product_attention(q, k, v, mask=mask)\n",
        "print(\"Q\\n\", q)\n",
        "print(\"K\\n\", k)\n",
        "print(\"V\\n\", v)\n",
        "print(\"New V\\n\", values)\n",
        "print(\"Attention\\n\", attention)"
      ],
      "metadata": {
        "colab": {
          "base_uri": "https://localhost:8080/"
        },
        "id": "adryMUrRXypx",
        "outputId": "f734aecc-23a6-4461-f111-4a2aa88763ef"
      },
      "execution_count": 18,
      "outputs": [
        {
          "output_type": "stream",
          "name": "stdout",
          "text": [
            "Q\n",
            " [[ 3.34278457  0.39612788 -0.98819355 -1.1077455  -0.38255537 -0.10379994\n",
            "  -0.51146918  0.09293298]\n",
            " [ 1.52237815 -0.2174949   1.03665892 -0.21065444 -0.40634944  0.77296857\n",
            "  -0.47011219  1.62302878]\n",
            " [-1.19135761  0.48766303  0.45636425  0.21676984  1.42303043  0.22596744\n",
            "  -0.3678861  -0.73940932]\n",
            " [-0.09375137 -0.04474917 -0.48749194  0.52051747  1.88337721 -0.41709959\n",
            "  -0.26235022  0.24116219]]\n",
            "K\n",
            " [[-1.44353036  0.37960281 -1.29376998  0.31693309  2.07464438  0.91732314\n",
            "  -0.33753667 -0.07122909]\n",
            " [ 1.25943966  0.10988663  0.95702566 -0.50777681  0.4789222   0.65097021\n",
            "  -0.79660986 -0.68303974]\n",
            " [-1.72847953 -0.62896366 -2.33455326  0.28707914  0.35321812 -0.02203805\n",
            "   0.22116167 -0.48156707]\n",
            " [ 0.02940219 -1.36951664 -0.48449898 -0.03127682 -0.72518655  0.0488824\n",
            "  -1.33205182  1.43489268]]\n",
            "V\n",
            " [[-1.72955746 -0.62463916 -0.6793932   0.65046206  1.19017355  0.03047917\n",
            "  -0.84386192  1.00766872]\n",
            " [-1.04429763 -1.15478099  0.17701764 -0.88352442  1.16597075  0.18716261\n",
            "   1.41017493  0.99070737]\n",
            " [ 0.26734226  1.40466065 -0.12637175  0.03472131 -0.93760062  1.28463708\n",
            "   0.37887243  1.73365749]\n",
            " [-1.76230225 -0.36857447 -0.70468912  1.39442757  0.93131844 -0.73347673\n",
            "   0.46690737 -0.40290641]]\n",
            "New V\n",
            " [[-1.72955746 -0.62463916 -0.6793932   0.65046206  1.19017355  0.03047917\n",
            "  -0.84386192  1.00766872]\n",
            " [-1.11001293 -1.10394125  0.09488924 -0.73641762  1.16829176  0.17213693\n",
            "   1.19401648  0.99233394]\n",
            " [-1.2133942  -0.27871829 -0.43936537  0.29868192  0.74299119  0.3147987\n",
            "  -0.2606584   1.15657305]\n",
            " [-1.19951232 -0.18908316 -0.46262617  0.41756329  0.67214849  0.26048005\n",
            "  -0.1907387   1.03349746]]\n",
            "Attention\n",
            " [[1.         0.         0.         0.        ]\n",
            " [0.09589837 0.90410163 0.         0.        ]\n",
            " [0.64586283 0.14562927 0.2085079  0.        ]\n",
            " [0.56353507 0.10737647 0.23020795 0.09888052]]\n"
          ]
        }
      ]
    },
    {
      "cell_type": "code",
      "source": [],
      "metadata": {
        "id": "_R4NfzihX3oP"
      },
      "execution_count": null,
      "outputs": []
    }
  ]
}